{
 "cells": [
  {
   "cell_type": "code",
   "execution_count": 15,
   "id": "d940e026-8779-4bbd-ad92-2aded81dbc7f",
   "metadata": {},
   "outputs": [
    {
     "name": "stdout",
     "output_type": "stream",
     "text": [
      "Paramjeet\n",
      "<class 'list'>\n",
      "<class 'float'>\n",
      "<class 'tuple'>\n"
     ]
    }
   ],
   "source": [
    "#1\n",
    "a = \"Paramjeet\"\n",
    "b = [1,2,3,4,\"Paramjeet\",3.40]\n",
    "c = 3.40\n",
    "my_tuple = (1, 2, 'three', True)\n",
    "print(a)\n",
    "print(type(b))\n",
    "print(type(c))\n",
    "print(type(my_tuple))\n",
    "\n"
   ]
  },
  {
   "cell_type": "code",
   "execution_count": 14,
   "id": "f284b5ca-2bfd-4c1f-8948-a1b9f11950ce",
   "metadata": {},
   "outputs": [],
   "source": [
    "#2\n",
    "# string\n",
    "# string\n",
    "# list\n",
    "# <class 'int'>\n"
   ]
  },
  {
   "cell_type": "code",
   "execution_count": 20,
   "id": "068aba34-26aa-43bf-a126-1429c468e993",
   "metadata": {},
   "outputs": [
    {
     "name": "stdout",
     "output_type": "stream",
     "text": [
      "4.3478260869565215\n",
      "8\n",
      "4\n"
     ]
    },
    {
     "data": {
      "text/plain": [
       "8"
      ]
     },
     "execution_count": 20,
     "metadata": {},
     "output_type": "execute_result"
    }
   ],
   "source": [
    "#3\n",
    "a=100\n",
    "b=23\n",
    "c=a/b\n",
    "d=a%b\n",
    "e=a//b\n",
    "\n",
    "print(c)\n",
    "print(d)\n",
    "print(e)\n",
    "2**3"
   ]
  },
  {
   "cell_type": "code",
   "execution_count": 23,
   "id": "6d579c11-6525-4908-809a-40311f19bf4c",
   "metadata": {},
   "outputs": [
    {
     "name": "stdout",
     "output_type": "stream",
     "text": [
      "1\n",
      "<class 'int'>\n",
      "2\n",
      "<class 'int'>\n",
      "3\n",
      "<class 'int'>\n",
      "5\n",
      "<class 'int'>\n",
      "2.4\n",
      "<class 'float'>\n",
      "5.66\n",
      "<class 'float'>\n",
      "Paramjeet\n",
      "<class 'str'>\n",
      "True\n",
      "<class 'bool'>\n",
      "False\n",
      "<class 'bool'>\n"
     ]
    }
   ],
   "source": [
    "#4\n",
    "l=[1,2,3,5,2.4,5.66,\"Paramjeet\",True,False]\n",
    "for i in l:\n",
    "    print(i)\n",
    "    print(type(i))"
   ]
  },
  {
   "cell_type": "code",
   "execution_count": null,
   "id": "213ff0b9-e05a-4b33-bd2e-fd12772a9e97",
   "metadata": {},
   "outputs": [],
   "source": [
    "#5\n"
   ]
  },
  {
   "cell_type": "code",
   "execution_count": 36,
   "id": "b48e5846-9a56-4930-a898-4faabf63374b",
   "metadata": {},
   "outputs": [
    {
     "name": "stdout",
     "output_type": "stream",
     "text": [
      "1\n",
      "The value is not divisible by 3\n",
      "2\n",
      "The value is not divisible by 3\n",
      "3\n",
      "The given value is divisible by 3\n",
      "45\n",
      "The given value is divisible by 3\n",
      "34\n",
      "The value is not divisible by 3\n",
      "56\n",
      "The value is not divisible by 3\n",
      "67\n",
      "The value is not divisible by 3\n",
      "78\n",
      "The given value is divisible by 3\n",
      "89\n",
      "The value is not divisible by 3\n",
      "99\n",
      "The given value is divisible by 3\n",
      "80\n",
      "The value is not divisible by 3\n",
      "70\n",
      "The value is not divisible by 3\n",
      "46\n",
      "The value is not divisible by 3\n",
      "78\n",
      "The given value is divisible by 3\n",
      "76\n",
      "The value is not divisible by 3\n",
      "98\n",
      "The value is not divisible by 3\n",
      "120\n",
      "The given value is divisible by 3\n"
     ]
    }
   ],
   "source": [
    "#6\n",
    "\n",
    "l=[1,2,3,45,34,56,67,78,89,99,80,70,46,78,76,98,120]\n",
    "for j in l:\n",
    "    print(j)\n",
    "    if j%3 == 0:\n",
    "        print(\"The given value is divisible by 3\")\n",
    "    else:\n",
    "        print(\"The value is not divisible by 3\") "
   ]
  },
  {
   "cell_type": "code",
   "execution_count": null,
   "id": "16c7dc8a-ed8f-4480-986c-bee96e42542e",
   "metadata": {},
   "outputs": [],
   "source": [
    "#7\n",
    "\n",
    "# mutable data types are those whose values can not be changed is called mutable for example list is\n",
    "# mutable object "
   ]
  }
 ],
 "metadata": {
  "kernelspec": {
   "display_name": "Python 3 (ipykernel)",
   "language": "python",
   "name": "python3"
  },
  "language_info": {
   "codemirror_mode": {
    "name": "ipython",
    "version": 3
   },
   "file_extension": ".py",
   "mimetype": "text/x-python",
   "name": "python",
   "nbconvert_exporter": "python",
   "pygments_lexer": "ipython3",
   "version": "3.10.8"
  }
 },
 "nbformat": 4,
 "nbformat_minor": 5
}
